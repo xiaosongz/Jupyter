{
 "cells": [
  {
   "cell_type": "markdown",
   "metadata": {},
   "source": [
    "**I am trying to log my nest thermostat's data into a SQL database, I want to compare the room temp and heating data with the local weather.**\n"
   ]
  },
  {
   "cell_type": "code",
   "execution_count": 1,
   "metadata": {
    "collapsed": false
   },
   "outputs": [
    {
     "ename": "SyntaxError",
     "evalue": "non-keyword arg after keyword arg (nest.py, line 4)",
     "output_type": "error",
     "traceback": [
      "\u001b[0;36m  File \u001b[0;32m\"/home/xiaosongz/.local/lib/python2.7/site-packages/nest.py\"\u001b[0;36m, line \u001b[0;32m4\u001b[0m\n\u001b[0;31m    if isinstance(each_item, indent = False ,list):\u001b[0m\n\u001b[0;31mSyntaxError\u001b[0m\u001b[0;31m:\u001b[0m non-keyword arg after keyword arg\n"
     ]
    }
   ],
   "source": [
    "import nest\n",
    "\n",
    "username = 'zorroxinxsindi@gmail.com'\n",
    "password = 'gdJide141@'\n",
    "\n",
    "napi = nest.Nest(username, password)\n",
    "\n",
    "for structure in napi.structures:\n",
    "    print 'Structure %s' % structure.name\n",
    "    print '    Away: %s' % structure.away\n",
    "    print '    Devices:'\n",
    "\n",
    "    for device in structure.devices:\n",
    "        print '        Device: %s' % device.name\n",
    "        print '            Temp: %0.1f' % device.temperature\n",
    "\n",
    "\n",
    "# The Nest object can also be used as a context manager\n",
    "with nest.Nest(username, password) as napi:\n",
    "    for device in napi.devices:\n",
    "        device.temp = 23\n",
    "\n",
    "# Weather data is also availible under structure or device\n",
    "# The api is the same from either\n",
    "\n",
    "structure = napi.structures[0]\n",
    "time_str = structure.weather.current.datetime.strftime('%Y-%m-%d %H:%M:%S')\n",
    "print 'Current Weather at %s:' % time_str\n",
    "print '    Condition: %s' % structure.weather.current.condition\n",
    "print '    Temperature: %s' % structure.weather.current.temperature\n",
    "print '    Humidity: %s' % structure.weather.current.humidity\n",
    "print '    Wind Dir: %s' % structure.weather.current.wind.direction\n",
    "print '    Wind Azimuth: %s' % structure.weather.current.wind.azimuth\n",
    "print '    Wind Speed: %s' % structure.weather.current.wind.kph\n",
    "\n",
    "# NOTE: Hourly forecasts do not contain a \"contidion\" its value is `None`\n",
    "#       Wind Speed is likwise `None` as its generally not reported\n",
    "print 'Hourly Forcast:'\n",
    "for f in structure.weather.hourly:\n",
    "    print '    %s:' % f.datetime.strftime('%Y-%m-%d %H:%M:%S')\n",
    "    print '        Temperature: %s' % f.temperature\n",
    "    print '        Humidity: %s' % f.humidity\n",
    "    print '        Wind Dir: %s' % f.wind.direction\n",
    "    print '        Wind Azimuth: %s' % f.wind.azimuth\n",
    "\n",
    "\n",
    "# NOTE: Daily forecasts temperature is a tuple of (low, high)\n",
    "print 'Daily Forcast:'\n",
    "for f in structure.weather.daily:\n",
    "    print '    %s:' % f.datetime.strftime('%Y-%m-%d %H:%M:%S')\n",
    "    print '    Condition: %s' % structure.weather.current.condition\n",
    "    print '        Low: %s' % f.temperature[0]\n",
    "    print '        High: %s' % f.temperature[1]\n",
    "    print '        Humidity: %s' % f.humidity\n",
    "    print '        Wind Dir: %s' % f.wind.direction\n",
    "    print '        Wind Azimuth: %s' % f.wind.azimuth\n",
    "    print '        Wind Speed: %s' % structure.weather.current.wind.kph\n",
    "\n",
    "\n",
    "# NOTE: By default all datetime objects are timezone unaware (UTC)\n",
    "#       By passing `local_time=True` to the `Nest` object datetime objects\n",
    "#       will be converted to the timezone reported by nest. If the `pytz`\n",
    "#       module is installed those timezone objects are used, else one is\n",
    "#       synthesized from the nest data\n",
    "napi = nest.Nest(username, password, local_time=True)\n",
    "print napi.structures[0].weather.current.dateimte.tzinfo"
   ]
  },
  {
   "cell_type": "code",
   "execution_count": null,
   "metadata": {
    "collapsed": true
   },
   "outputs": [],
   "source": []
  }
 ],
 "metadata": {
  "kernelspec": {
   "display_name": "Python 2",
   "language": "python",
   "name": "python2"
  },
  "language_info": {
   "codemirror_mode": {
    "name": "ipython",
    "version": 2
   },
   "file_extension": ".py",
   "mimetype": "text/x-python",
   "name": "python",
   "nbconvert_exporter": "python",
   "pygments_lexer": "ipython2",
   "version": "2.7.12+"
  }
 },
 "nbformat": 4,
 "nbformat_minor": 2
}
